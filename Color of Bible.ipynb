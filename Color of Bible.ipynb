{
 "cells": [
  {
   "cell_type": "markdown",
   "metadata": {},
   "source": [
    "## Color of Bible\n",
    "Projekt ma na celu stworzenie systemu wizualizaji tekstu. Dla każdego słowa w tekście obliczany jest kolor na podstawie kodów ASCII poszczególnych liter w danym słowie. Każde pole obrazie otrzymanym na wyjściu jest proporcjonalnie wysokie do liczby liter w słowie. Do demonstracji systemu zostały wykorzystane cytaty z Biblii (stąd nazwa projektu)."
   ]
  },
  {
   "cell_type": "code",
   "execution_count": 2,
   "metadata": {},
   "outputs": [],
   "source": [
    "from PIL import Image\n",
    "import numpy as np\n",
    "import re"
   ]
  },
  {
   "cell_type": "markdown",
   "metadata": {},
   "source": [
    "### getWordRGB\n",
    "Funkcja będąca rdzeniem całego systemu wizualizacji. Służy do obliczania koloru w formacie RGB dla poszczególnych słów."
   ]
  },
  {
   "cell_type": "code",
   "execution_count": 3,
   "metadata": {},
   "outputs": [],
   "source": [
    "def getWordRGB(word):\n",
    "    counter = 0\n",
    "    RGB = [0, 0, 0]\n",
    "    for char in word:\n",
    "        RGB[counter] += ord(char)\n",
    "        if counter == 2:\n",
    "            counter = 0\n",
    "        else:\n",
    "            counter+=1\n",
    "    RGB = [value%255 for value in RGB]\n",
    "    return RGB"
   ]
  },
  {
   "cell_type": "code",
   "execution_count": 4,
   "metadata": {},
   "outputs": [
    {
     "data": {
      "text/plain": [
       "[75, 79, 84]"
      ]
     },
     "execution_count": 4,
     "metadata": {},
     "output_type": "execute_result"
    }
   ],
   "source": [
    "getWordRGB(\"KOT\")"
   ]
  },
  {
   "cell_type": "markdown",
   "metadata": {},
   "source": [
    "### generateImageExt\n",
    "Funkcja do wizualizacji tekstu pochodzącego z zewnętrznego pliku tekstowego."
   ]
  },
  {
   "cell_type": "code",
   "execution_count": 16,
   "metadata": {},
   "outputs": [],
   "source": [
    "def generateImageExt(text_path, width=50, multiplier=1):\n",
    "    with open(text_path, 'r', encoding=\"utf-8\") as file:\n",
    "        text = file.read().replace('\\n', '')\n",
    "    height = len(re.sub(r'[ _,.;\\'\\\"1234567890]', \"\", text))*multiplier\n",
    "    text_arr = re.sub(r'[_,.;\\'\\\"1234567890]', \"\", text).split(\" \")\n",
    "    image_arr = np.empty([height, width, 3], dtype='int64')\n",
    "    start, end = 0, 0\n",
    "    for word in text_arr:\n",
    "        start = end\n",
    "        end = start+(len(word)*multiplier)\n",
    "        for x in range(width):\n",
    "            for y in range(start, end):\n",
    "                image_arr[y,x] = getWordRGB(word)\n",
    "    output = np.array(image_arr, dtype='uint8')\n",
    "    #Image.fromarray(output).show()\n",
    "    Image.fromarray(output).save('test.png')"
   ]
  },
  {
   "cell_type": "code",
   "execution_count": 17,
   "metadata": {},
   "outputs": [],
   "source": [
    "generateImageExt(\"Rdz1.txt\", 250, 5)"
   ]
  },
  {
   "cell_type": "markdown",
   "metadata": {},
   "source": [
    "### generateImageStr\n",
    "Funkcja do wizualizacji tekstu przechowywanego w zmiennej."
   ]
  },
  {
   "cell_type": "code",
   "execution_count": 5,
   "metadata": {},
   "outputs": [],
   "source": [
    "King = \"The man in black fled across the desert, and the gunslinger followed.\"\n",
    "J1_1 = \"Na początku było Słowo, a Słowo było u Boga, i Bogiem było Słowo.\""
   ]
  },
  {
   "cell_type": "code",
   "execution_count": 18,
   "metadata": {},
   "outputs": [],
   "source": [
    "def generateImageStr(text, width=50, multiplier=1):\n",
    "    height = len(re.sub(r'[ _,.;\\'\\\"1234567890]', \"\", text))*multiplier\n",
    "    text_arr = re.sub(r'[_,.;\\'\\\"1234567890]', \"\", text).split(\" \")\n",
    "    image_arr = np.empty([height, width, 3], dtype='int64')\n",
    "    start, end = 0, 0\n",
    "    for word in text_arr:\n",
    "        start = end\n",
    "        end = start+(len(word)*multiplier)\n",
    "        for x in range(width):\n",
    "            for y in range(start, end):\n",
    "                image_arr[y,x] = getWordRGB(word)\n",
    "    output = np.array(image_arr, dtype='uint8')\n",
    "    #Image.fromarray(output).show()\n",
    "    Image.fromarray(output).save('test.png')"
   ]
  },
  {
   "cell_type": "code",
   "execution_count": 19,
   "metadata": {},
   "outputs": [],
   "source": [
    "generateImageStr(J1_1, 500, 10)"
   ]
  }
 ],
 "metadata": {
  "kernelspec": {
   "display_name": "Python 3",
   "language": "python",
   "name": "python3"
  },
  "language_info": {
   "codemirror_mode": {
    "name": "ipython",
    "version": 3
   },
   "file_extension": ".py",
   "mimetype": "text/x-python",
   "name": "python",
   "nbconvert_exporter": "python",
   "pygments_lexer": "ipython3",
   "version": "3.7.1"
  }
 },
 "nbformat": 4,
 "nbformat_minor": 2
}
